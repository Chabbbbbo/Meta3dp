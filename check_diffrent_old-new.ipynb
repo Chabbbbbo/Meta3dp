{
 "cells": [
  {
   "cell_type": "code",
   "execution_count": 11,
   "metadata": {},
   "outputs": [],
   "source": [
    "import os\n",
    "import pandas as pd\n",
    "import seaborn as sns\n",
    "import numpy as np\n",
    "import matplotlib.pyplot as plt"
   ]
  },
  {
   "attachments": {},
   "cell_type": "markdown",
   "metadata": {},
   "source": [
    "### 각 JSON file 생성\n"
   ]
  },
  {
   "cell_type": "code",
   "execution_count": 3,
   "metadata": {},
   "outputs": [],
   "source": [
    "path = \"C:\\\\Users\\\\Chaaaaabbo\\\\Desktop\\\\3DP\"\n",
    "\n",
    "\n",
    "old_path = os.path.join(path, '230201_전체데이터', 'mechanical_property_all.csv')\n",
    "new_path =  os.path.join(path, '230306_신규데이터', 'new_data_property_all.csv')\n",
    "\n",
    "\n",
    "# 기계적특성치 데이터 로드\n",
    "old_df = pd.read_csv(old_path, index_col=0)\n",
    "new_df = pd.read_csv(new_path, index_col=0)"
   ]
  },
  {
   "cell_type": "code",
   "execution_count": null,
   "metadata": {},
   "outputs": [],
   "source": [
    "old_df.describe()"
   ]
  },
  {
   "cell_type": "code",
   "execution_count": null,
   "metadata": {},
   "outputs": [],
   "source": [
    "new_df.describe()"
   ]
  },
  {
   "cell_type": "code",
   "execution_count": null,
   "metadata": {},
   "outputs": [],
   "source": [
    "new_df[new_df['equipment_base_thickness(µm)'].isnull()].fillna('40',inplace=True)"
   ]
  },
  {
   "cell_type": "code",
   "execution_count": 19,
   "metadata": {},
   "outputs": [],
   "source": [
    "new_df.fillna('40',inplace=True)"
   ]
  },
  {
   "cell_type": "code",
   "execution_count": 23,
   "metadata": {},
   "outputs": [],
   "source": [
    "new_df.to_csv(os.path.join(new_path, 'new_data_property_all_fill_na.csv'))"
   ]
  },
  {
   "cell_type": "code",
   "execution_count": null,
   "metadata": {},
   "outputs": [],
   "source": [
    "new_df.describe()"
   ]
  },
  {
   "cell_type": "code",
   "execution_count": null,
   "metadata": {},
   "outputs": [],
   "source": [
    "old_df.describe()"
   ]
  },
  {
   "cell_type": "code",
   "execution_count": 33,
   "metadata": {},
   "outputs": [],
   "source": [
    "curious_no = old_df[old_df['specimen_position']> 16]['Number'].to_list()"
   ]
  },
  {
   "cell_type": "code",
   "execution_count": null,
   "metadata": {},
   "outputs": [],
   "source": [
    "old_df[old_df['specimen_position']> 16]"
   ]
  },
  {
   "cell_type": "code",
   "execution_count": 34,
   "metadata": {},
   "outputs": [
    {
     "data": {
      "text/plain": [
       "[91, 92, 95, 96]"
      ]
     },
     "execution_count": 34,
     "metadata": {},
     "output_type": "execute_result"
    }
   ],
   "source": [
    "curious_no"
   ]
  },
  {
   "cell_type": "code",
   "execution_count": null,
   "metadata": {},
   "outputs": [],
   "source": [
    "curious_no = old_df[old_df['specimen_position']> 16]['Number'].to_list()\n",
    "for i in curious_no:\n",
    "    print(f\"{i}의 기존 위치 {old_df[old_df['Number']==i]['specimen_position']}수정된 위치 => {new_df[new_df['Number']==i]['specimen_position']}\")"
   ]
  },
  {
   "cell_type": "code",
   "execution_count": null,
   "metadata": {},
   "outputs": [],
   "source": [
    "for i in range(1, len(old_df)):\n",
    "    a = old_df[old_df['Number']==i]['specimen_position']\n",
    "    print(a)\n",
    "    if a % 16 != i:\n",
    "        print(i, '====', old_df[old_df['Number']==i]['specimen_position'])"
   ]
  },
  {
   "cell_type": "code",
   "execution_count": null,
   "metadata": {},
   "outputs": [],
   "source": [
    "folder_path = \"*\"\n",
    "folders = os.listdir(folder_path)\n",
    "all_list = []\n",
    "for folder in folders:\n",
    "    new_data = dict()\n",
    "    item = folder.split('_')[0]\n",
    "    new_data['Sample_No'] = item\n",
    "    new_data['new_On_Axis_num'] = num\n",
    "    on_folder_path = os.path.join(folder_path,folder, \"On_Axis_Images\")\n",
    "    num = len(os.listdir(on_folder_path))\n",
    "    all_list.append(new_data)\n",
    "    print(item, \" ======> \",num)"
   ]
  },
  {
   "cell_type": "code",
   "execution_count": null,
   "metadata": {},
   "outputs": [],
   "source": [
    "new_data_df = pd.DataFrame(list(all_list))"
   ]
  },
  {
   "cell_type": "code",
   "execution_count": null,
   "metadata": {},
   "outputs": [],
   "source": [
    "new_data_df.head()\n",
    "new_data_df.to_csv(\"On-axis_count.csv\")"
   ]
  },
  {
   "cell_type": "code",
   "execution_count": null,
   "metadata": {},
   "outputs": [],
   "source": [
    "path = \"C:\\\\Users\\\\Chaaaaabbo\\\\Downloads\\\\all_origin_info.xlsx\"\n",
    "\n",
    "# 기계적특성치 데이터 로드\n",
    "all_origin_info = pd.read_excel(path, index_col=0)\n",
    "all_origin_info"
   ]
  },
  {
   "cell_type": "code",
   "execution_count": 8,
   "metadata": {},
   "outputs": [],
   "source": [
    "lines = open(\"C:\\\\Users\\\\Chaaaaabbo\\\\Desktop\\\\3DP\\\\230306_신규데이터\\\\신규데이터갯수.txt\", 'r')\n",
    "all_dict = []\n",
    "for line in lines:\n",
    "    new_data = dict()\n",
    "    line = line.split(' ')\n",
    "    new_data['Sample_No'] = int(line[0])\n",
    "    new_data['new_On_Axis_num'] = int(line[-1].replace(\"\\n\", \"\"))\n",
    "    all_dict.append(new_data)\n",
    "\n"
   ]
  },
  {
   "cell_type": "code",
   "execution_count": null,
   "metadata": {},
   "outputs": [],
   "source": [
    "all_dict"
   ]
  },
  {
   "cell_type": "code",
   "execution_count": null,
   "metadata": {},
   "outputs": [],
   "source": [
    "df = pd.DataFrame(all_dict)\n",
    "df.head()"
   ]
  },
  {
   "cell_type": "code",
   "execution_count": 13,
   "metadata": {},
   "outputs": [
    {
     "data": {
      "text/html": [
       "<div>\n",
       "<style scoped>\n",
       "    .dataframe tbody tr th:only-of-type {\n",
       "        vertical-align: middle;\n",
       "    }\n",
       "\n",
       "    .dataframe tbody tr th {\n",
       "        vertical-align: top;\n",
       "    }\n",
       "\n",
       "    .dataframe thead th {\n",
       "        text-align: right;\n",
       "    }\n",
       "</style>\n",
       "<table border=\"1\" class=\"dataframe\">\n",
       "  <thead>\n",
       "    <tr style=\"text-align: right;\">\n",
       "      <th></th>\n",
       "      <th>Sample_No</th>\n",
       "      <th>new_On_Axis_num</th>\n",
       "    </tr>\n",
       "  </thead>\n",
       "  <tbody>\n",
       "    <tr>\n",
       "      <th>10</th>\n",
       "      <td>100</td>\n",
       "      <td>53124</td>\n",
       "    </tr>\n",
       "  </tbody>\n",
       "</table>\n",
       "</div>"
      ],
      "text/plain": [
       "    Sample_No  new_On_Axis_num\n",
       "10        100            53124"
      ]
     },
     "execution_count": 13,
     "metadata": {},
     "output_type": "execute_result"
    }
   ],
   "source": [
    "df[df['Sample_No']== 100]"
   ]
  },
  {
   "cell_type": "code",
   "execution_count": 15,
   "metadata": {},
   "outputs": [],
   "source": [
    "df.to_csv(\"On-axis_count_re.csv\")"
   ]
  },
  {
   "cell_type": "code",
   "execution_count": 16,
   "metadata": {},
   "outputs": [
    {
     "name": "stdout",
     "output_type": "stream",
     "text": [
      "없는 시편 =>  {1729}\n"
     ]
    }
   ],
   "source": [
    "# 시편 메타데이터/Area 데이터 join\n",
    "merge_data = pd.merge(all_origin_info,df, how='inner', on='Sample_No')\n",
    "print('없는 시편 => ',set(all_origin_info['Sample_No'].unique()) - set(df['Sample_No'].unique()))\n",
    "# 1 ~ 48"
   ]
  },
  {
   "cell_type": "code",
   "execution_count": null,
   "metadata": {},
   "outputs": [],
   "source": [
    "merge_data.columns"
   ]
  },
  {
   "cell_type": "code",
   "execution_count": 20,
   "metadata": {},
   "outputs": [],
   "source": [
    "cols = ['Sample_No', 'Machine_No', 'Material', 'Angle', 'Cycle', 'On_Axis_Images', 'new_On_Axis_num',\n",
    "       'Mechnical property', 'melt_temperature', 'Off_Axis_Images'\n",
    "       ]\n",
    "merge_data_re = pd.DataFrame(merge_data, columns= cols)"
   ]
  },
  {
   "cell_type": "code",
   "execution_count": 22,
   "metadata": {},
   "outputs": [],
   "source": [
    "merge_data_re['On_Axis_origin-new'] = merge_data_re['On_Axis_Images'] - merge_data_re['new_On_Axis_num']"
   ]
  },
  {
   "cell_type": "code",
   "execution_count": null,
   "metadata": {},
   "outputs": [],
   "source": [
    "merge_data_re[merge_data_re['On_Axis_origin-new'] != 0]"
   ]
  },
  {
   "cell_type": "code",
   "execution_count": 25,
   "metadata": {},
   "outputs": [],
   "source": [
    "cols = ['Sample_No', 'Machine_No', 'Material', 'Angle', 'Cycle', 'On_Axis_Images', 'new_On_Axis_num','On_Axis_origin-new','Off_Axis_Images']\n",
    "merge_data_re = pd.DataFrame(merge_data_re, columns= cols)\n",
    "merge_data_re.to_csv(\"On-axis_count_re.csv\")"
   ]
  },
  {
   "cell_type": "code",
   "execution_count": null,
   "metadata": {},
   "outputs": [],
   "source": [
    "df.to_csv(\"On-axis_count_re.csv\")"
   ]
  }
 ],
 "metadata": {
  "kernelspec": {
   "display_name": "Python 3",
   "language": "python",
   "name": "python3"
  },
  "language_info": {
   "codemirror_mode": {
    "name": "ipython",
    "version": 3
   },
   "file_extension": ".py",
   "mimetype": "text/x-python",
   "name": "python",
   "nbconvert_exporter": "python",
   "pygments_lexer": "ipython3",
   "version": "3.11.0"
  },
  "orig_nbformat": 4
 },
 "nbformat": 4,
 "nbformat_minor": 2
}
