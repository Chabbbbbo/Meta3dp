{
 "cells": [
  {
   "attachments": {},
   "cell_type": "markdown",
   "metadata": {},
   "source": [
    "### 0. 프레임워크 로드, 함수정의"
   ]
  },
  {
   "cell_type": "code",
   "execution_count": 2,
   "metadata": {},
   "outputs": [],
   "source": [
    "import os\n",
    "import pandas as pd\n",
    "import seaborn as sns\n",
    "import numpy as np\n",
    "import matplotlib.pyplot as plt"
   ]
  },
  {
   "cell_type": "code",
   "execution_count": 3,
   "metadata": {},
   "outputs": [],
   "source": [
    "# 모델학습,검증,시각화 등을 위한 함수 정의\n",
    "\n",
    "# 전체 데이터셋 히트맵으로 시각화 \n",
    "def draw_corrmap(df):\n",
    "  plt.figure(figsize=(10, 8))\n",
    "  y_corrmat = df.corr()\n",
    "  mask = np.zeros_like(y_corrmat, dtype=np.bool) # 절반 mask\n",
    "  mask[np.triu_indices_from(mask)] = True\n",
    "  sns.heatmap(y_corrmat, #데이터\n",
    "              annot = True, #셀값 표기 유무\n",
    "              mask = mask,\n",
    "              annot_kws = {\"size\": 10}, #셀값 글자크기\n",
    "              cmap = 'PuBu', #히트맵 색\n",
    "              cbar = True, #colorbar 유무\n",
    "              linewidth=3,\n",
    "              cbar_kws={\"shrink\": .5},\n",
    "              fmt='.2f') # 선굵기\n",
    "  \n",
    "# boxplot, scatterplot -> 2col기준 출력\n",
    "def boxplot(x, y, data):\n",
    "    sns.boxplot(x=x, y=y, data=data)\n",
    "    plt.title(f\"{y} distribution by {x} / Box Plot\")\n",
    "    plt.legend()\n",
    "    plt.show()\n",
    "\n",
    "def scatterplot(x, y, data):\n",
    "    plt.scatter(x=x, y=y, data=data)\n",
    "    plt.title(f\"{y} distribution by {x} / scatter Plot\")\n",
    "    plt.legend()\n",
    "    plt.show()"
   ]
  },
  {
   "attachments": {},
   "cell_type": "markdown",
   "metadata": {},
   "source": [
    "### 1. 기계적특성치/온도데이터 로드"
   ]
  },
  {
   "cell_type": "code",
   "execution_count": null,
   "metadata": {},
   "outputs": [],
   "source": [
    "path = \"C:\\\\Users\\\\Chaaaaabbo\\\\Desktop\\\\3DP\\\\230201_신규데이터진행\"\n",
    "\n",
    "# 기계적특성치 데이터 로드\n",
    "mechanic_path = os.path.join(path,  'mechanical_property_all.csv')\n",
    "mechanic_df = pd.read_csv(mechanic_path, index_col=0)\n",
    "print(mechanic_df)\n",
    "\n",
    "# 온도 데이터 로드\n",
    "temperature_path = os.path.join(path, 'temperature_data_143ea_desc.csv')\n",
    "temperature_df = pd.read_csv(temperature_path, index_col=0)\n",
    "print(temperature_df)\n"
   ]
  },
  {
   "cell_type": "code",
   "execution_count": null,
   "metadata": {},
   "outputs": [],
   "source": [
    "mechanic_df = mechanic_df.rename(columns = {'Number':'item_no'})\n",
    "mechanic_df.describe()\n"
   ]
  },
  {
   "cell_type": "code",
   "execution_count": null,
   "metadata": {},
   "outputs": [],
   "source": [
    "temperature_df.describe()"
   ]
  },
  {
   "cell_type": "code",
   "execution_count": null,
   "metadata": {},
   "outputs": [],
   "source": [
    "## 온도/기계적 데이터 통합\n",
    "merge_data = pd.merge(temperature_df,mechanic_df, how='inner', on='item_no')\n",
    "print('없는 시편 => ',set(temperature_df['item_no'].unique()) - set(mechanic_df['item_no'].unique()))\n",
    "# >> ()"
   ]
  },
  {
   "cell_type": "code",
   "execution_count": null,
   "metadata": {},
   "outputs": [],
   "source": [
    "print(merge_data.describe())"
   ]
  },
  {
   "cell_type": "code",
   "execution_count": 14,
   "metadata": {},
   "outputs": [],
   "source": [
    "to_corr_list = ['item_no', 'mean', 'median', 'max', 'image_layer',\n",
    "                'power(w)', 'speed(mm/sec)', 'angle', 'yielding(MPa)', \n",
    "                'tensile(MPa)','density(g/cm^3)', 'specimen_position', 'energy_density',]"
   ]
  },
  {
   "cell_type": "code",
   "execution_count": null,
   "metadata": {},
   "outputs": [],
   "source": [
    "# 필요 col으로 재정의\n",
    "merge_data_to_corr = pd.DataFrame(merge_data, columns=to_corr_list)\n",
    "merge_data_to_corr"
   ]
  },
  {
   "cell_type": "code",
   "execution_count": 16,
   "metadata": {},
   "outputs": [],
   "source": [
    "merge_data_to_corr = merge_data_to_corr.rename(columns = {'mean':'temperature_mean', 'median' : 'temperature_median'})"
   ]
  },
  {
   "attachments": {},
   "cell_type": "markdown",
   "metadata": {},
   "source": [
    "#### 기계적 특성 / 온도 특성 상관관계 확인"
   ]
  },
  {
   "cell_type": "code",
   "execution_count": null,
   "metadata": {},
   "outputs": [],
   "source": [
    "draw_corrmap(merge_data_to_corr)"
   ]
  },
  {
   "cell_type": "code",
   "execution_count": null,
   "metadata": {},
   "outputs": [],
   "source": [
    "scatterplot(x=\"temperature_mean\", y=\"energy_density\", data=merge_data_to_corr)"
   ]
  },
  {
   "cell_type": "code",
   "execution_count": null,
   "metadata": {},
   "outputs": [],
   "source": [
    "scatterplot(x=\"energy_density\", y=\"temperature_mean\", data=merge_data_to_corr)"
   ]
  },
  {
   "cell_type": "code",
   "execution_count": null,
   "metadata": {},
   "outputs": [],
   "source": [
    "sns.pairplot(merge_data_to_corr, palette=\"vlag\",\n",
    "             vars=['temperature_mean', 'power(w)', 'speed(mm/sec)', 'angle', 'energy_density'],\n",
    "                hue = 'specimen_position')"
   ]
  },
  {
   "cell_type": "code",
   "execution_count": null,
   "metadata": {},
   "outputs": [],
   "source": [
    "sns.pairplot(merge_data_to_corr, palette=\"vlag\",\n",
    "             vars=['temperature_mean', 'power(w)', 'speed(mm/sec)',\n",
    "                'tensile(MPa)','density(g/cm^3)', 'energy_density','specimen_position'] ,\n",
    "                hue = 'angle')"
   ]
  },
  {
   "attachments": {},
   "cell_type": "markdown",
   "metadata": {},
   "source": [
    "### 온도 - Area\n"
   ]
  },
  {
   "attachments": {},
   "cell_type": "markdown",
   "metadata": {},
   "source": [
    "### 1) 0도\n",
    "---"
   ]
  },
  {
   "cell_type": "code",
   "execution_count": null,
   "metadata": {},
   "outputs": [],
   "source": [
    "path = \"C:\\\\Users\\\\Chaaaaabbo\\\\Desktop\\\\3DP\\\\230201_신규데이터진행\\\\\"\n",
    "files = os.listdir(path)\n",
    "\n",
    "list_of_df = []\n",
    "for file in os.listdir(path):\n",
    "    file_path = os.path.join(path, file)\n",
    "    df_temp = pd.read_csv(file_path)\n",
    "    list_of_df.append(df_temp)\n",
    "\n",
    "image_df = pd.concat(list_of_df) \n",
    "image_df"
   ]
  },
  {
   "cell_type": "code",
   "execution_count": 4,
   "metadata": {},
   "outputs": [
    {
     "data": {
      "text/plain": [
       "specimen_no             int64\n",
       "Layer No.              object\n",
       "contours_threshold    float64\n",
       "area                   object\n",
       "long                   object\n",
       "short                  object\n",
       "aspect_ratio           object\n",
       "dtype: object"
      ]
     },
     "execution_count": 4,
     "metadata": {},
     "output_type": "execute_result"
    }
   ],
   "source": [
    "image_df = pd.DataFrame(image_df, columns=['specimen_no', 'Layer No.',\n",
    "       'contours_threshold', 'area', 'long', 'short', 'aspect_ratio'])\n",
    "image_df.dtypes"
   ]
  },
  {
   "cell_type": "code",
   "execution_count": 6,
   "metadata": {},
   "outputs": [],
   "source": [
    "# image dataframe -> area 각 col 평균 값으로 치환한 df 생성\n",
    "def make_area_df(image_df):\n",
    "    '''\n",
    "    시편 레이어별 이미지에서 contour 정보를 저장한 Image dataframe을 \n",
    "    Input : \n",
    "    '''\n",
    "\n",
    "    # object type -> float\n",
    "    change_list = ['area', 'long', 'short', 'aspect_ratio']\n",
    "    for i in change_list:\n",
    "        image_df[i] = pd.to_numeric(image_df[i], errors='coerce')\n",
    "\n",
    "    # 시편별 평균 값으로 치환 후 df화\n",
    "    area_list = []\n",
    "    item_list = set(image_df['specimen_no'].unique())\n",
    "    for i in item_list:\n",
    "        area = image_df[image_df['specimen_no'] == i]['area']\n",
    "        long = image_df[image_df['specimen_no'] == i]['long']\n",
    "        short = image_df[image_df['specimen_no'] == i]['short']\n",
    "        aspect_ratio = image_df[image_df['specimen_no'] == i]['aspect_ratio']\n",
    "        data = [i, round(area.mean(), 4), round(area.median(), 4), round(long.median(), 4), round(short.median(), 4), round(aspect_ratio.median(), 4)]\n",
    "        area_list.append(data)\n",
    "    columns = ['item_no', 'area_mean', 'area_median', 'long_median', 'short_median', 'aspect_ratio_median']\n",
    "    area_df = pd.DataFrame(area_list, columns = columns)\n",
    "    return area_df\n"
   ]
  },
  {
   "cell_type": "code",
   "execution_count": null,
   "metadata": {},
   "outputs": [],
   "source": [
    "area_df = make_area_df(image_df)\n",
    "area_df"
   ]
  },
  {
   "cell_type": "code",
   "execution_count": null,
   "metadata": {},
   "outputs": [],
   "source": [
    "# 시편 메타데이터/Area 데이터 join\n",
    "merge_data_2 = pd.merge(merge_data_to_corr,area_df, how='inner', on='item_no')\n",
    "print('없는 시편 => ',set(merge_data_to_corr['item_no'].unique()) - set(area_df['item_no'].unique()))\n",
    "# 1 ~ 48"
   ]
  },
  {
   "cell_type": "code",
   "execution_count": null,
   "metadata": {},
   "outputs": [],
   "source": [
    "merge_data_2"
   ]
  },
  {
   "attachments": {},
   "cell_type": "markdown",
   "metadata": {},
   "source": [
    "#### 데이터 시각화"
   ]
  },
  {
   "cell_type": "code",
   "execution_count": null,
   "metadata": {},
   "outputs": [],
   "source": [
    "sns.set_palette(\"colorblind\")\n",
    "sns.pairplot(merge_data_2, \n",
    "             palette=\"colorblind\",\n",
    "             vars=['temperature_mean', 'power(w)', 'speed(mm/sec)', 'energy_density','area_mean', 'long_median','area_median', 'short_median', 'aspect_ratio_median'] ,\n",
    "                hue = 'specimen_position')"
   ]
  },
  {
   "cell_type": "code",
   "execution_count": null,
   "metadata": {},
   "outputs": [],
   "source": [
    "merge_data_2_corr = pd.DataFrame(merge_data_2, columns= ['item_no', 'temperature_mean', 'temperature_median', 'power(w)',\n",
    "       'speed(mm/sec)', 'specimen_position', 'energy_density', 'area_mean','area_median', 'long_median', 'short_median', 'aspect_ratio_median'])\n",
    "\n",
    "draw_corrmap(merge_data_2_corr)"
   ]
  },
  {
   "cell_type": "code",
   "execution_count": null,
   "metadata": {},
   "outputs": [],
   "source": [
    "scatterplot(x=\"temperature_mean\", y=\"area_mean\", data=merge_data_2_corr)"
   ]
  },
  {
   "cell_type": "code",
   "execution_count": null,
   "metadata": {},
   "outputs": [],
   "source": [
    "scatterplot(x=\"temperature_mean\", y=\"area_median\", data=merge_data_2_corr)"
   ]
  },
  {
   "cell_type": "code",
   "execution_count": null,
   "metadata": {},
   "outputs": [],
   "source": [
    "scatterplot(x=\"temperature_mean\", y=\"long_median\", data=merge_data_2_corr)"
   ]
  },
  {
   "cell_type": "code",
   "execution_count": null,
   "metadata": {},
   "outputs": [],
   "source": [
    "scatterplot(x=\"temperature_mean\", y=\"short_median\", data=merge_data_2_corr)"
   ]
  },
  {
   "cell_type": "code",
   "execution_count": null,
   "metadata": {},
   "outputs": [],
   "source": [
    "scatterplot(x=\"temperature_mean\", y=\"aspect_ratio_median\", data=merge_data_2_corr)"
   ]
  },
  {
   "attachments": {},
   "cell_type": "markdown",
   "metadata": {},
   "source": [
    "### 2) 45도\n",
    "---\n",
    "- DtypeWarning: Columns (4,5,6,7) have mixed types. Specify dtype option on import or set low_memory=False.\n",
    "  df_temp = pd.read_csv(file_path)\n",
    "[관련 Stakoverflow](https://stackoverflow.com/questions/24251219/pandas-read-csv-low-memory-and-dtype-options)\n"
   ]
  },
  {
   "cell_type": "code",
   "execution_count": null,
   "metadata": {},
   "outputs": [],
   "source": [
    "path = \"C:\\\\Users\\\\Chaaaaabbo\\\\Desktop\\\\3DP\\\\230201_신규데이터진행\\\\\"\n",
    "files = os.listdir(path)\n",
    "\n",
    "list_of_df = []\n",
    "for file in os.listdir(path):\n",
    "    file_path = os.path.join(path, file)\n",
    "    df_temp = pd.read_csv(file_path, low_memory=False) \n",
    "                        #   ,dtype={'area':str, 'long':str, 'short':str, 'aspect_ratio' :str})\n",
    "    list_of_df.append(df_temp) \n",
    "\n",
    "image_df = pd.concat(list_of_df) \n",
    "image_df"
   ]
  },
  {
   "cell_type": "code",
   "execution_count": 47,
   "metadata": {},
   "outputs": [
    {
     "data": {
      "text/plain": [
       "specimen_no             int64\n",
       "Layer No.              object\n",
       "contours_threshold    float64\n",
       "area                   object\n",
       "long                   object\n",
       "short                  object\n",
       "aspect_ratio           object\n",
       "dtype: object"
      ]
     },
     "execution_count": 47,
     "metadata": {},
     "output_type": "execute_result"
    }
   ],
   "source": [
    "image_df = pd.DataFrame(image_df, columns=['specimen_no', 'Layer No.',\n",
    "       'contours_threshold', 'area', 'long', 'short', 'aspect_ratio'])\n",
    "image_df.dtypes"
   ]
  },
  {
   "cell_type": "code",
   "execution_count": null,
   "metadata": {},
   "outputs": [],
   "source": [
    "area_df = make_area_df(image_df)\n",
    "area_df"
   ]
  },
  {
   "cell_type": "code",
   "execution_count": null,
   "metadata": {},
   "outputs": [],
   "source": [
    "merge_data_2 = pd.merge(merge_data_to_corr,area_df, how='inner', on='item_no')\n",
    "print('없는 시편 => ',set(merge_data_to_corr['item_no'].unique()) - set(area_df['item_no'].unique()))\n",
    "\n",
    "# 49 ~ 80"
   ]
  },
  {
   "cell_type": "code",
   "execution_count": null,
   "metadata": {},
   "outputs": [],
   "source": [
    "merge_data_2"
   ]
  },
  {
   "attachments": {},
   "cell_type": "markdown",
   "metadata": {},
   "source": [
    "#### 데이터 시각화"
   ]
  },
  {
   "cell_type": "code",
   "execution_count": null,
   "metadata": {},
   "outputs": [],
   "source": [
    "sns.set_palette(\"colorblind\")\n",
    "sns.pairplot(merge_data_2, \n",
    "             palette=\"colorblind\",\n",
    "             vars=['temperature_mean', 'power(w)', 'speed(mm/sec)', 'energy_density','area_mean', 'long_median','area_median', 'short_median', 'aspect_ratio_median'] ,\n",
    "                hue = 'specimen_position')"
   ]
  },
  {
   "cell_type": "code",
   "execution_count": null,
   "metadata": {},
   "outputs": [],
   "source": [
    "merge_data_2_corr = pd.DataFrame(merge_data_2, columns= ['item_no', 'temperature_mean', 'temperature_median', 'power(w)',\n",
    "       'speed(mm/sec)', 'specimen_position', 'energy_density', 'area_mean','area_median', 'long_median', 'short_median', 'aspect_ratio_median'])\n",
    "\n",
    "draw_corrmap(merge_data_2_corr)"
   ]
  },
  {
   "cell_type": "code",
   "execution_count": null,
   "metadata": {},
   "outputs": [],
   "source": [
    "scatterplot(x=\"temperature_mean\", y=\"area_median\", data=merge_data_2_corr)"
   ]
  },
  {
   "cell_type": "code",
   "execution_count": null,
   "metadata": {},
   "outputs": [],
   "source": [
    "scatterplot(x=\"temperature_mean\", y=\"area_mean\", data=merge_data_2_corr)"
   ]
  },
  {
   "cell_type": "code",
   "execution_count": null,
   "metadata": {},
   "outputs": [],
   "source": [
    "scatterplot(x=\"temperature_mean\", y=\"long_median\", data=merge_data_2_corr)"
   ]
  },
  {
   "cell_type": "code",
   "execution_count": null,
   "metadata": {},
   "outputs": [],
   "source": [
    "scatterplot(x=\"temperature_mean\", y=\"short_median\", data=merge_data_2_corr)"
   ]
  },
  {
   "cell_type": "code",
   "execution_count": null,
   "metadata": {},
   "outputs": [],
   "source": [
    "scatterplot(x=\"temperature_mean\", y=\"aspect_ratio_median\", data=merge_data_2_corr)"
   ]
  },
  {
   "attachments": {},
   "cell_type": "markdown",
   "metadata": {},
   "source": [
    "### 3) 90도\n",
    "---\n"
   ]
  },
  {
   "cell_type": "code",
   "execution_count": null,
   "metadata": {},
   "outputs": [],
   "source": [
    "path = \"C:\\\\Users\\\\Chaaaaabbo\\\\Desktop\\\\3DP\\\\230201_신규데이터진행\\\\\"\n",
    "files = os.listdir(path)\n",
    "\n",
    "list_of_df = []\n",
    "for file in os.listdir(path):\n",
    "    file_path = os.path.join(path, file)\n",
    "    df_temp = pd.read_csv(file_path)\n",
    "    list_of_df.append(df_temp) \n",
    "\n",
    "image_df = pd.concat(list_of_df) \n",
    "image_df"
   ]
  },
  {
   "cell_type": "code",
   "execution_count": null,
   "metadata": {},
   "outputs": [],
   "source": [
    "image_df = pd.DataFrame(image_df, columns=['specimen_no', 'Layer No.',\n",
    "       'contours_threshold', 'area', 'long', 'short', 'aspect_ratio'])\n",
    "image_df.dtypes"
   ]
  },
  {
   "cell_type": "code",
   "execution_count": null,
   "metadata": {},
   "outputs": [],
   "source": [
    "area_df = make_area_df(image_df)\n",
    "area_df"
   ]
  },
  {
   "cell_type": "code",
   "execution_count": null,
   "metadata": {},
   "outputs": [],
   "source": [
    "merge_data_2 = pd.merge(merge_data_to_corr,area_df, how='inner', on='item_no')\n",
    "print('없는 시편 => ',set(merge_data_to_corr['item_no'].unique()) - set(area_df['item_no'].unique()))\n",
    "\n",
    "# 97 ~ 144"
   ]
  },
  {
   "cell_type": "code",
   "execution_count": null,
   "metadata": {},
   "outputs": [],
   "source": [
    "merge_data_2"
   ]
  },
  {
   "attachments": {},
   "cell_type": "markdown",
   "metadata": {},
   "source": [
    "#### 데이터 시각화"
   ]
  },
  {
   "cell_type": "code",
   "execution_count": null,
   "metadata": {},
   "outputs": [],
   "source": [
    "sns.set_palette(\"colorblind\")\n",
    "sns.pairplot(merge_data_2, \n",
    "             palette=\"colorblind\",\n",
    "             vars=['temperature_mean', 'power(w)', 'speed(mm/sec)', 'energy_density','long_median', 'short_median', 'aspect_ratio_median'] ,\n",
    "                hue = 'specimen_position')"
   ]
  },
  {
   "cell_type": "code",
   "execution_count": null,
   "metadata": {},
   "outputs": [],
   "source": [
    "merge_data_2_corr = pd.DataFrame(merge_data_2, columns= ['item_no', 'temperature_mean', 'temperature_median', 'power(w)',\n",
    "       'speed(mm/sec)', 'specimen_position', 'energy_density', 'area_mean','area_median', 'long_median', 'short_median', 'aspect_ratio_median'])\n",
    "\n",
    "draw_corrmap(merge_data_2_corr)"
   ]
  },
  {
   "cell_type": "code",
   "execution_count": null,
   "metadata": {},
   "outputs": [],
   "source": [
    "scatterplot(x=\"temperature_mean\", y=\"area_mean\", data=merge_data_2_corr)"
   ]
  },
  {
   "cell_type": "code",
   "execution_count": null,
   "metadata": {},
   "outputs": [],
   "source": [
    "scatterplot(x=\"temperature_mean\", y=\"area_median\", data=merge_data_2_corr)"
   ]
  },
  {
   "cell_type": "code",
   "execution_count": null,
   "metadata": {},
   "outputs": [],
   "source": [
    "scatterplot(x=\"temperature_mean\", y=\"long_median\", data=merge_data_2_corr)"
   ]
  },
  {
   "cell_type": "code",
   "execution_count": null,
   "metadata": {},
   "outputs": [],
   "source": [
    "scatterplot(x=\"temperature_mean\", y=\"short_median\", data=merge_data_2_corr)"
   ]
  },
  {
   "cell_type": "code",
   "execution_count": null,
   "metadata": {},
   "outputs": [],
   "source": [
    "scatterplot(x=\"temperature_mean\", y=\"aspect_ratio_median\", data=merge_data_2_corr)"
   ]
  }
 ],
 "metadata": {
  "kernelspec": {
   "display_name": "Python 3",
   "language": "python",
   "name": "python3"
  },
  "language_info": {
   "codemirror_mode": {
    "name": "ipython",
    "version": 3
   },
   "file_extension": ".py",
   "mimetype": "text/x-python",
   "name": "python",
   "nbconvert_exporter": "python",
   "pygments_lexer": "ipython3",
   "version": "3.11.0"
  },
  "orig_nbformat": 4,
  "vscode": {
   "interpreter": {
    "hash": "613be4257a235896c62c6cddf239c19cb31941bb1e932190aafc389901e7e74e"
   }
  }
 },
 "nbformat": 4,
 "nbformat_minor": 2
}
